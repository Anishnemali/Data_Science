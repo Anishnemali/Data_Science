{
 "cells": [
  {
   "cell_type": "code",
   "execution_count": 2,
   "id": "883b9940-1446-40b3-aa86-e72d4a659966",
   "metadata": {},
   "outputs": [],
   "source": [
    "import numpy as np"
   ]
  },
  {
   "cell_type": "markdown",
   "id": "b71722b1-1e94-4618-b738-886c4673018c",
   "metadata": {},
   "source": [
    "Create a 2D NumPy array of shape (3, 4) with values from 0 to 11."
   ]
  },
  {
   "cell_type": "code",
   "execution_count": 16,
   "id": "2b49e60b-ff6d-4a33-b558-53e0221b23f2",
   "metadata": {},
   "outputs": [
    {
     "name": "stdout",
     "output_type": "stream",
     "text": [
      "[[ 0  1  2]\n",
      " [ 3  4  5]\n",
      " [ 6  7  8]\n",
      " [ 9 10 11]]\n"
     ]
    }
   ],
   "source": [
    "a=np.array([[0,1,2],[3,4,5],[6,7,8],[9,10,11]])\n",
    "print(a)"
   ]
  },
  {
   "cell_type": "markdown",
   "id": "bd7b37b9-d5fa-4389-b696-0b157c4ce82d",
   "metadata": {},
   "source": [
    "Reshape it into (4, 3) and (6, 2)"
   ]
  },
  {
   "cell_type": "code",
   "execution_count": 17,
   "id": "d1fdb953-df7a-47fc-b97b-34fe7494f777",
   "metadata": {},
   "outputs": [
    {
     "name": "stdout",
     "output_type": "stream",
     "text": [
      "[[0 1 2 3]\n",
      " [4 5 6 7]\n",
      " [8 9 0 1]]\n",
      "[[0 1]\n",
      " [2 3]\n",
      " [4 5]\n",
      " [6 7]\n",
      " [8 9]\n",
      " [0 1]]\n"
     ]
    }
   ],
   "source": [
    "b=np.array([[0,1,2,3],[4,5,6,7],[8,9,0,1]])\n",
    "print(b)\n",
    "c=b.reshape(6,2)\n",
    "print(c)"
   ]
  },
  {
   "cell_type": "markdown",
   "id": "b1e83b7d-d003-40f4-bc2b-6d7838838264",
   "metadata": {},
   "source": [
    "Perform element-wise multiplication with another array of the same shape."
   ]
  },
  {
   "cell_type": "code",
   "execution_count": 18,
   "id": "14b746b9-8196-4cbf-8992-c4712bdb6ac5",
   "metadata": {},
   "outputs": [
    {
     "name": "stdout",
     "output_type": "stream",
     "text": [
      "[[3 4 5]\n",
      " [5 6 7]\n",
      " [7 8 9]]\n",
      "[[1 2 3]\n",
      " [3 4 5]\n",
      " [5 6 7]]\n",
      "[[ 3  8 15]\n",
      " [15 24 35]\n",
      " [35 48 63]]\n"
     ]
    }
   ],
   "source": [
    "a=np.array([[3,4,5],[5,6,7],[7,8,9]])\n",
    "b=np.array([[1,2,3],[3,4,5],[5,6,7]])\n",
    "print(a)\n",
    "print(b)\n",
    "print(a*b)"
   ]
  },
  {
   "cell_type": "markdown",
   "id": "61b88a2b-9868-4c92-bde3-ec27b8899b12",
   "metadata": {},
   "source": [
    "Slice the first two rows and last two columns."
   ]
  },
  {
   "cell_type": "code",
   "execution_count": 27,
   "id": "d75d8355-e9ea-4b6a-ae3c-d6fa2fb0a076",
   "metadata": {},
   "outputs": [
    {
     "name": "stdout",
     "output_type": "stream",
     "text": [
      "[[0 1 2 3]\n",
      " [4 5 6 7]\n",
      " [8 9 0 1]\n",
      " [2 3 4 5]\n",
      " [5 6 7 8]\n",
      " [1 2 3 4]]\n",
      "[[8 9]\n",
      " [2 3]\n",
      " [5 6]\n",
      " [1 2]]\n"
     ]
    }
   ],
   "source": [
    "b=np.array([[0,1,2,3],[4,5,6,7],[8,9,0,1],[2,3,4,5],[5,6,7,8],[1,2,3,4]])\n",
    "print(b)\n",
    "print(b[2:6,0:2])"
   ]
  },
  {
   "cell_type": "code",
   "execution_count": null,
   "id": "7c3edbb5-08eb-48ef-a551-53cb7273b981",
   "metadata": {},
   "outputs": [],
   "source": []
  }
 ],
 "metadata": {
  "kernelspec": {
   "display_name": "Python 3 (ipykernel)",
   "language": "python",
   "name": "python3"
  },
  "language_info": {
   "codemirror_mode": {
    "name": "ipython",
    "version": 3
   },
   "file_extension": ".py",
   "mimetype": "text/x-python",
   "name": "python",
   "nbconvert_exporter": "python",
   "pygments_lexer": "ipython3",
   "version": "3.10.5"
  }
 },
 "nbformat": 4,
 "nbformat_minor": 5
}
